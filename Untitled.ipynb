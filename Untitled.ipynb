{
 "cells": [
  {
   "cell_type": "code",
   "execution_count": 11,
   "metadata": {},
   "outputs": [
    {
     "name": "stdout",
     "output_type": "stream",
     "text": [
      "[8 10]\n",
      "[9 11]\n"
     ]
    }
   ],
   "source": [
    "import heapq\n",
    "import sys\n",
    "\n",
    "class node:\n",
    "    def __init__(self, g, h, block=False):\n",
    "        self.x = 0\n",
    "        self.y = 0\n",
    "        self.h = h\n",
    "        self.g = g\n",
    "        self.search = 0\n",
    "        self.parent = None\n",
    "        self.next = None\n",
    "        self.isBlocked = block\n",
    "\n",
    "    def __lt__(self, other, c=100 * 100):\n",
    "        # define a new rule to make comparison based on the f value of two cells\n",
    "        return c * (self.g + self.h) - self.g < c * (other.g + other.h) - other.g\n",
    "\n",
    "node1 = node(10, 8)\n",
    "node2 = node(11, 9)\n",
    "queue = []\n",
    "heapq.heappush(queue, node1)\n",
    "heapq.heappush(queue, node2)\n",
    "for i in queue:\n",
    "    print(\"[{} {}]\".format(i.h, i.g))\n"
   ]
  },
  {
   "cell_type": "code",
   "execution_count": null,
   "metadata": {
    "collapsed": true
   },
   "outputs": [],
   "source": []
  }
 ],
 "metadata": {
  "kernelspec": {
   "display_name": "Python 3",
   "language": "python",
   "name": "python3"
  },
  "language_info": {
   "codemirror_mode": {
    "name": "ipython",
    "version": 3
   },
   "file_extension": ".py",
   "mimetype": "text/x-python",
   "name": "python",
   "nbconvert_exporter": "python",
   "pygments_lexer": "ipython3",
   "version": "3.6.3"
  }
 },
 "nbformat": 4,
 "nbformat_minor": 2
}
