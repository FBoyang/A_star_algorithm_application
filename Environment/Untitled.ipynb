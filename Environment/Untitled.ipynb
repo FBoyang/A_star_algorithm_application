{
 "cells": [
  {
   "cell_type": "code",
   "execution_count": 21,
   "metadata": {},
   "outputs": [
    {
     "name": "stdout",
     "output_type": "stream",
     "text": [
      "True\n",
      "False\n"
     ]
    }
   ],
   "source": [
    "import heapq\n",
    "import random\n",
    "\n",
    "class node:\n",
    "\tdef __init__(self, xcoor, ycoor, f, h, g):\n",
    "\t\tself.x = xcoor\n",
    "\t\tself.y = ycoor\n",
    "\t\tself.f = f\n",
    "\t\tself.h = h\n",
    "\t\tself.g = g\n",
    "\t\tself.ifExpanded = False\n",
    "\n",
    "\tdef __lt__(self, other):\n",
    "\t\t#define a new rule to make comparison based on the g value of two cells\n",
    "\t\treturn self.g < other.g\n",
    "\n",
    "\tdef __eq__(self, other):\n",
    "\t\treturn self.g == other.g\n",
    "\n",
    "B = [[0 for x in range(3)] for y in range(3)]\n",
    "B[0][0] = node(1, 6, 6, 0, 6)\n",
    "B[0][1] = node(10, 9, 10, 8, 2)\n",
    "\n",
    "print(isinstance(B[0][1], node))\n",
    "print(isinstance(B[2][2], node))\n"
   ]
  },
  {
   "cell_type": "code",
   "execution_count": null,
   "metadata": {
    "collapsed": true
   },
   "outputs": [],
   "source": []
  },
  {
   "cell_type": "code",
   "execution_count": null,
   "metadata": {
    "collapsed": true
   },
   "outputs": [],
   "source": []
  },
  {
   "cell_type": "code",
   "execution_count": null,
   "metadata": {
    "collapsed": true
   },
   "outputs": [],
   "source": []
  },
  {
   "cell_type": "code",
   "execution_count": null,
   "metadata": {
    "collapsed": true
   },
   "outputs": [],
   "source": []
  }
 ],
 "metadata": {
  "kernelspec": {
   "display_name": "Python 3",
   "language": "python",
   "name": "python3"
  },
  "language_info": {
   "codemirror_mode": {
    "name": "ipython",
    "version": 3
   },
   "file_extension": ".py",
   "mimetype": "text/x-python",
   "name": "python",
   "nbconvert_exporter": "python",
   "pygments_lexer": "ipython3",
   "version": "3.6.3"
  }
 },
 "nbformat": 4,
 "nbformat_minor": 2
}
