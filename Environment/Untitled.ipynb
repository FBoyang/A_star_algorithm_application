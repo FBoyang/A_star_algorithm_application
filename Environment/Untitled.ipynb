{
 "cells": [
  {
   "cell_type": "code",
   "execution_count": 50,
   "metadata": {},
   "outputs": [
    {
     "name": "stdout",
     "output_type": "stream",
     "text": [
      "[12, 10]\n",
      "[10, 12]\n"
     ]
    }
   ],
   "source": [
    "import heapq\n",
    "\n",
    "def heapsort(iterable):\n",
    "    h = []\n",
    "    for value in iterable:\n",
    "        heap = heappush(h, value)\n",
    "        print(heap)\n",
    "    return [heappop(h) for i in range(len(h))]\n",
    "\n",
    "class node:\n",
    "    def __init__(self, f, g ,h):\n",
    "        self.f = f\n",
    "        self.g = g\n",
    "        self.h = h\n",
    "    def __lt__(self, other):\n",
    "        return self.f < other.f\n",
    "    def __eq__(self, other):\n",
    "        return self.f == other.f\n",
    "\n",
    "\n",
    "B = [node(12, 6, 6), node(10, 9, 1)]\n",
    "\n",
    "\n",
    "\n",
    "print(list(i.f for i in B))\n",
    "heapq.heapify(B)\n",
    "print(list(i.f for i in B))\n",
    "\n"
   ]
  },
  {
   "cell_type": "code",
   "execution_count": null,
   "metadata": {
    "collapsed": true
   },
   "outputs": [],
   "source": []
  },
  {
   "cell_type": "code",
   "execution_count": null,
   "metadata": {
    "collapsed": true
   },
   "outputs": [],
   "source": []
  }
 ],
 "metadata": {
  "kernelspec": {
   "display_name": "Python 3",
   "language": "python",
   "name": "python3"
  },
  "language_info": {
   "codemirror_mode": {
    "name": "ipython",
    "version": 3
   },
   "file_extension": ".py",
   "mimetype": "text/x-python",
   "name": "python",
   "nbconvert_exporter": "python",
   "pygments_lexer": "ipython3",
   "version": "3.6.3"
  }
 },
 "nbformat": 4,
 "nbformat_minor": 2
}
